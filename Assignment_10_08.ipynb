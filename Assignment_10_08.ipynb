{
  "nbformat": 4,
  "nbformat_minor": 0,
  "metadata": {
    "colab": {
      "name": "Assignment-10/08.ipynb",
      "provenance": [],
      "authorship_tag": "ABX9TyNPtF7CBqyaIOX57QpP81U/",
      "include_colab_link": true
    },
    "kernelspec": {
      "name": "python3",
      "display_name": "Python 3"
    },
    "language_info": {
      "name": "python"
    }
  },
  "cells": [
    {
      "cell_type": "markdown",
      "metadata": {
        "id": "view-in-github",
        "colab_type": "text"
      },
      "source": [
        "<a href=\"https://colab.research.google.com/github/ferhatdat/Assignment/blob/main/Assignment_10_08.ipynb\" target=\"_parent\"><img src=\"https://colab.research.google.com/assets/colab-badge.svg\" alt=\"Open In Colab\"/></a>"
      ]
    },
    {
      "cell_type": "code",
      "source": [
        "def letter_counter(s):\n",
        "  dict_letter = {}\n",
        "  for i in s:\n",
        "    if i not in dict_letter:\n",
        "      dict_letter[i] = s.count(i)\n",
        "  return dict_letter\n",
        "print(letter_counter(\"hippo runs to us!\"))"
      ],
      "metadata": {
        "colab": {
          "base_uri": "https://localhost:8080/"
        },
        "id": "5VyDrzOceTR4",
        "outputId": "9fcb4c24-4be3-4b0e-c58b-1dd02e88496e"
      },
      "execution_count": 2,
      "outputs": [
        {
          "output_type": "stream",
          "name": "stdout",
          "text": [
            "{'h': 1, 'i': 1, 'p': 2, 'o': 2, ' ': 3, 'r': 1, 'u': 2, 'n': 1, 's': 2, 't': 1, '!': 1}\n"
          ]
        }
      ]
    }
  ]
}